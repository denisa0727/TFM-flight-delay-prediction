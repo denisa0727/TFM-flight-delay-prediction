{
  "nbformat": 4,
  "nbformat_minor": 0,
  "metadata": {
    "colab": {
      "provenance": []
    },
    "kernelspec": {
      "name": "python3",
      "display_name": "Python 3"
    },
    "language_info": {
      "name": "python"
    }
  },
  "cells": [
    {
      "cell_type": "markdown",
      "source": [
        "## Data Integration Process"
      ],
      "metadata": {
        "id": "XvGruDKorplp"
      }
    },
    {
      "cell_type": "markdown",
      "source": [
        "The data integration process consisted of combining multiple data sources to enrich the flight delay dataset. First, meteorological data was integrated by matching the WMO station codes and corresponding dates, ensuring each flight was associated with weather conditions from the nearest meteorological station. Next, holiday information was incorporated by mapping flight dates to a predefined list of U.S. holidays, adding a binary indicator. This process ensured that all relevant external features—weather conditions and holiday data—were systematically aligned with the flight records, enhancing the dataset for subsequent predictive analysis."
      ],
      "metadata": {
        "id": "pdnJ8GP2rveb"
      }
    },
    {
      "cell_type": "code",
      "execution_count": 1,
      "metadata": {
        "id": "JeB6PzW-Vuc_"
      },
      "outputs": [],
      "source": [
        "import pandas as pd"
      ]
    },
    {
      "cell_type": "code",
      "source": [
        "# load original dataset\n",
        "flight_delay = pd.read_csv('flight_delay.csv', delimiter = ';')\n",
        "\n",
        "print(flight_delay.head())"
      ],
      "metadata": {
        "colab": {
          "base_uri": "https://localhost:8080/"
        },
        "id": "xAasjrc4r23J",
        "outputId": "7aec10fd-b70b-40be-83eb-88fdbdcb2f25"
      },
      "execution_count": 2,
      "outputs": [
        {
          "output_type": "stream",
          "name": "stdout",
          "text": [
            "   day_of_week        date  dep_time  arr_time  crs_arr_time unique_carrier  \\\n",
            "0            4  03/01/2019      1829      1959          1925             WN   \n",
            "1            4  03/01/2019      1937      2037          1940             WN   \n",
            "2            4  03/01/2019      1644      1845          1725             WN   \n",
            "3            4  03/01/2019      1452      1640          1625             WN   \n",
            "4            4  03/01/2019      1323      1526          1510             WN   \n",
            "\n",
            "                  airline  flight_num tail_num  actual_elapsed_time  ...  \\\n",
            "0  Southwest Airlines Co.        3920   N464WN                   90  ...   \n",
            "1  Southwest Airlines Co.         509   N763SW                  240  ...   \n",
            "2  Southwest Airlines Co.        1333   N334SW                  121  ...   \n",
            "3  Southwest Airlines Co.         675   N286WN                  228  ...   \n",
            "4  Southwest Airlines Co.           4   N674AA                  123  ...   \n",
            "\n",
            "   taxi_in  taxi_out  cancelled  cancellation_code diverted carrier_delay  \\\n",
            "0        3        10          0                  N        0             2   \n",
            "1        3         7          0                  N        0            10   \n",
            "2        6         8          0                  N        0             8   \n",
            "3        7         8          0                  N        0             3   \n",
            "4        4         9          0                  N        0             0   \n",
            "\n",
            "  weather_delay nas_delay  security_delay  late_aircraft_delay  \n",
            "0             0         0               0                   32  \n",
            "1             0         0               0                   47  \n",
            "2             0         0               0                   72  \n",
            "3             0         0               0                   12  \n",
            "4             0         0               0                   16  \n",
            "\n",
            "[5 rows x 29 columns]\n"
          ]
        }
      ]
    },
    {
      "cell_type": "code",
      "source": [
        "# load oaci dataset\n",
        "flight_delay_icao = pd.read_csv('oaci_coord.csv', delimiter = ';')\n",
        "\n",
        "print(flight_delay_icao.head())"
      ],
      "metadata": {
        "colab": {
          "base_uri": "https://localhost:8080/"
        },
        "id": "VxvSzqBfts8Q",
        "outputId": "ada3e852-3e09-4278-c88b-d6e052e29fbd"
      },
      "execution_count": 3,
      "outputs": [
        {
          "output_type": "stream",
          "name": "stdout",
          "text": [
            "   AirportID                                         Name          City  \\\n",
            "0          1                               Goroka Airport        Goroka   \n",
            "1          2                               Madang Airport        Madang   \n",
            "2          3                 Mount Hagen Kagamuga Airport   Mount Hagen   \n",
            "3          4                               Nadzab Airport        Nadzab   \n",
            "4          5  Port Moresby Jacksons International Airport  Port Moresby   \n",
            "\n",
            "            Country IATA  ICAO             Latitude      Longituede  Altitude  \\\n",
            "0  Papua New Guinea  GKA  AYGA  -6081689834590000.0  145391998291.0      5282   \n",
            "1  Papua New Guinea  MAG  AYMD      -520707988739.0  145789001465.0        20   \n",
            "2  Papua New Guinea  HGU  AYMH  -5826789855957030.0        1,44E+30      5388   \n",
            "3  Papua New Guinea  LAE  AYNZ           -6569803.0     146725977.0       239   \n",
            "4  Papua New Guinea  POM  AYPY  -9443380355834960.0        1,47E+30       146   \n",
            "\n",
            "  Timezone DST    TzDatabaseTimezone     Type       Source  \n",
            "0       10   U  Pacific/Port_Moresby  airport  OurAirports  \n",
            "1       10   U  Pacific/Port_Moresby  airport  OurAirports  \n",
            "2       10   U  Pacific/Port_Moresby  airport  OurAirports  \n",
            "3       10   U  Pacific/Port_Moresby  airport  OurAirports  \n",
            "4       10   U  Pacific/Port_Moresby  airport  OurAirports  \n"
          ]
        }
      ]
    },
    {
      "cell_type": "code",
      "source": [
        "# map iata code with icao code (orig airport)\n",
        "iata_icao = dict(zip(flight_delay_icao['IATA'], flight_delay_icao['ICAO']))\n",
        "\n",
        "# add a new column oaci_org_airport to the main dataset\n",
        "flight_delay['oaci_org_airport'] = flight_delay['origin'].map(iata_icao)\n",
        "\n",
        "print(flight_delay.head())"
      ],
      "metadata": {
        "colab": {
          "base_uri": "https://localhost:8080/"
        },
        "id": "ZtZKLe9cuDm-",
        "outputId": "76ad9721-3b6d-4978-c276-aff06f8b892e"
      },
      "execution_count": 4,
      "outputs": [
        {
          "output_type": "stream",
          "name": "stdout",
          "text": [
            "   day_of_week        date  dep_time  arr_time  crs_arr_time unique_carrier  \\\n",
            "0            4  03/01/2019      1829      1959          1925             WN   \n",
            "1            4  03/01/2019      1937      2037          1940             WN   \n",
            "2            4  03/01/2019      1644      1845          1725             WN   \n",
            "3            4  03/01/2019      1452      1640          1625             WN   \n",
            "4            4  03/01/2019      1323      1526          1510             WN   \n",
            "\n",
            "                  airline  flight_num tail_num  actual_elapsed_time  ...  \\\n",
            "0  Southwest Airlines Co.        3920   N464WN                   90  ...   \n",
            "1  Southwest Airlines Co.         509   N763SW                  240  ...   \n",
            "2  Southwest Airlines Co.        1333   N334SW                  121  ...   \n",
            "3  Southwest Airlines Co.         675   N286WN                  228  ...   \n",
            "4  Southwest Airlines Co.           4   N674AA                  123  ...   \n",
            "\n",
            "   taxi_out  cancelled  cancellation_code  diverted carrier_delay  \\\n",
            "0        10          0                  N         0             2   \n",
            "1         7          0                  N         0            10   \n",
            "2         8          0                  N         0             8   \n",
            "3         8          0                  N         0             3   \n",
            "4         9          0                  N         0             0   \n",
            "\n",
            "  weather_delay nas_delay security_delay  late_aircraft_delay  \\\n",
            "0             0         0              0                   32   \n",
            "1             0         0              0                   47   \n",
            "2             0         0              0                   72   \n",
            "3             0         0              0                   12   \n",
            "4             0         0              0                   16   \n",
            "\n",
            "   oaci_org_airport  \n",
            "0              KIND  \n",
            "1              KIND  \n",
            "2              KIND  \n",
            "3              KIND  \n",
            "4              KIND  \n",
            "\n",
            "[5 rows x 30 columns]\n"
          ]
        }
      ]
    },
    {
      "cell_type": "code",
      "source": [
        "# obtain meteostat stations\n",
        "!pip install meteostat\n",
        "\n",
        "from meteostat import Stations, Daily\n",
        "from datetime import datetime\n",
        "\n",
        "# download all meteostat stations\n",
        "stations = Stations().fetch()\n",
        "# stations with oaci codes\n",
        "icao_stations = stations[stations['icao'].notnull()]\n",
        "# most relevant columns\n",
        "icao_stations = icao_stations[['icao', 'latitude', 'longitude', 'elevation', 'wmo']]\n",
        "\n",
        "icao_stations.to_csv('icao_stations.csv', index=False)\n",
        "\n",
        "print(icao_stations.head())"
      ],
      "metadata": {
        "colab": {
          "base_uri": "https://localhost:8080/"
        },
        "id": "SPP2lRYXwThI",
        "outputId": "03071663-6c20-49df-d322-961ffa7bd89f"
      },
      "execution_count": 5,
      "outputs": [
        {
          "output_type": "stream",
          "name": "stdout",
          "text": [
            "Requirement already satisfied: meteostat in /usr/local/lib/python3.10/dist-packages (1.6.8)\n",
            "Requirement already satisfied: pandas>=1.1 in /usr/local/lib/python3.10/dist-packages (from meteostat) (2.2.2)\n",
            "Requirement already satisfied: pytz in /usr/local/lib/python3.10/dist-packages (from meteostat) (2024.2)\n",
            "Requirement already satisfied: numpy in /usr/local/lib/python3.10/dist-packages (from meteostat) (1.26.4)\n",
            "Requirement already satisfied: python-dateutil>=2.8.2 in /usr/local/lib/python3.10/dist-packages (from pandas>=1.1->meteostat) (2.8.2)\n",
            "Requirement already satisfied: tzdata>=2022.7 in /usr/local/lib/python3.10/dist-packages (from pandas>=1.1->meteostat) (2024.2)\n",
            "Requirement already satisfied: six>=1.5 in /usr/local/lib/python3.10/dist-packages (from python-dateutil>=2.8.2->pandas>=1.1->meteostat) (1.17.0)\n",
            "       icao  latitude  longitude  elevation    wmo\n",
            "id                                                \n",
            "00FAY  CXHD   53.1900  -112.2500      688.0  71227\n",
            "01001  ENJA   70.9333    -8.6667       10.0  01001\n",
            "01004  ENAS   78.9167    11.9333        8.0  01004\n",
            "01008  ENSB   78.2500    15.4667        2.0  01008\n",
            "01025  ENTC   69.6833    18.9167        1.0  01025\n"
          ]
        }
      ]
    },
    {
      "cell_type": "code",
      "source": [
        "# laod meteo stations dataset\n",
        "icao_stations = pd.read_csv('icao_stations.csv', delimiter = ',')\n",
        "\n",
        "print(icao_stations.head())"
      ],
      "metadata": {
        "colab": {
          "base_uri": "https://localhost:8080/"
        },
        "id": "XoJdvoFr4orV",
        "outputId": "fffa7c52-6891-4a35-b325-65a6c670ebd5"
      },
      "execution_count": 6,
      "outputs": [
        {
          "output_type": "stream",
          "name": "stdout",
          "text": [
            "   icao  latitude  longitude  elevation      wmo\n",
            "0  CXHD   53.1900  -112.2500      688.0  71227.0\n",
            "1  ENJA   70.9333    -8.6667       10.0   1001.0\n",
            "2  ENAS   78.9167    11.9333        8.0   1004.0\n",
            "3  ENSB   78.2500    15.4667        2.0   1008.0\n",
            "4  ENTC   69.6833    18.9167        1.0   1025.0\n"
          ]
        }
      ]
    },
    {
      "cell_type": "code",
      "source": [
        "# check for null values in wmo\n",
        "null_wmo = icao_stations['wmo'].isnull().sum()\n",
        "\n",
        "print(f\"Number of missing wmo: {null_wmo}\")"
      ],
      "metadata": {
        "colab": {
          "base_uri": "https://localhost:8080/"
        },
        "id": "grSSPVisIQM2",
        "outputId": "523dcfa9-6e8f-48a5-bdeb-9fda2c7e2a8b"
      },
      "execution_count": 7,
      "outputs": [
        {
          "output_type": "stream",
          "name": "stdout",
          "text": [
            "Number of missing wmo: 3150\n"
          ]
        }
      ]
    },
    {
      "cell_type": "code",
      "source": [
        "# obtain the nearest wmo stations based on the icao airport coordinates\n",
        "from scipy.spatial import cKDTree\n",
        "import numpy as np\n",
        "\n",
        "# separate stations with valid WMO values\n",
        "valid_wmo_stations = icao_stations.dropna(subset=['wmo'])\n",
        "\n",
        "# build a k-d tree for the valid stations\n",
        "valid_coords = np.array(valid_wmo_stations[['latitude', 'longitude']])\n",
        "tree = cKDTree(valid_coords)\n",
        "\n",
        "# get coordinates for stations with missing WMO\n",
        "missing_coords = np.array(icao_stations[icao_stations['wmo'].isnull()][['latitude', 'longitude']])\n",
        "\n",
        "# query the nearest stations\n",
        "distances, indices = tree.query(missing_coords)\n",
        "\n",
        "# assign the nearest WMO to the missing rows\n",
        "missing_indices = icao_stations[icao_stations['wmo'].isnull()].index\n",
        "icao_stations.loc[missing_indices, 'wmo'] = valid_wmo_stations.iloc[indices]['wmo'].values\n",
        "\n",
        "# verify the dataset\n",
        "print(\"Number of missing WMO values after the process:\", icao_stations['wmo'].isnull().sum())\n",
        "\n",
        "icao_stations.to_csv('icao_stations.csv', index=False)"
      ],
      "metadata": {
        "colab": {
          "base_uri": "https://localhost:8080/"
        },
        "id": "lsZ0gItzIMNe",
        "outputId": "269e4d51-f435-4dc4-881d-0118cf6e2869"
      },
      "execution_count": 8,
      "outputs": [
        {
          "output_type": "stream",
          "name": "stdout",
          "text": [
            "Number of missing WMO values after the process: 0\n"
          ]
        }
      ]
    },
    {
      "cell_type": "code",
      "source": [
        "# laod meteo stations dataset modified\n",
        "icao_stations_modified = pd.read_csv('icao_stations_modified.csv', delimiter = ';')\n",
        "\n",
        "print(icao_stations_modified.head())"
      ],
      "metadata": {
        "colab": {
          "base_uri": "https://localhost:8080/"
        },
        "id": "Q9O9YmhVjMLH",
        "outputId": "886081a0-b7b1-4309-daf3-cdc6a963cb14"
      },
      "execution_count": 9,
      "outputs": [
        {
          "output_type": "stream",
          "name": "stdout",
          "text": [
            "   icao  latitude longitude  elevation      wmo\n",
            "0  CXHD    53.190   -112.25      688.0  71227.0\n",
            "1  ENJA   709.333   -86.667       10.0   1001.0\n",
            "2  ENAS   789.167   119.333        8.0   1004.0\n",
            "3  ENSB    78.250   154.667        2.0   1008.0\n",
            "4  ENTC   696.833   189.167        1.0   1025.0\n"
          ]
        }
      ]
    },
    {
      "cell_type": "code",
      "source": [
        "# map using oaci code in order to merge both datasets\n",
        "icao_stations_dict = dict(zip(icao_stations_modified['icao'], icao_stations_modified['wmo']))\n",
        "\n",
        "# add a new column 'wmo' to the main dataset\n",
        "flight_delay['wmo'] = flight_delay['oaci_org_airport'].map(icao_stations_dict)\n",
        "\n",
        "# convert wmo column to integer, while preserving the NaN values\n",
        "flight_delay['wmo'] = pd.to_numeric(flight_delay['wmo'], errors='coerce').astype('Int64')\n",
        "\n",
        "print(flight_delay.head())"
      ],
      "metadata": {
        "colab": {
          "base_uri": "https://localhost:8080/"
        },
        "id": "eaFxNvTv5yXC",
        "outputId": "6da256a8-27c6-4ab0-b308-78552c8fe961"
      },
      "execution_count": 10,
      "outputs": [
        {
          "output_type": "stream",
          "name": "stdout",
          "text": [
            "   day_of_week        date  dep_time  arr_time  crs_arr_time unique_carrier  \\\n",
            "0            4  03/01/2019      1829      1959          1925             WN   \n",
            "1            4  03/01/2019      1937      2037          1940             WN   \n",
            "2            4  03/01/2019      1644      1845          1725             WN   \n",
            "3            4  03/01/2019      1452      1640          1625             WN   \n",
            "4            4  03/01/2019      1323      1526          1510             WN   \n",
            "\n",
            "                  airline  flight_num tail_num  actual_elapsed_time  ...  \\\n",
            "0  Southwest Airlines Co.        3920   N464WN                   90  ...   \n",
            "1  Southwest Airlines Co.         509   N763SW                  240  ...   \n",
            "2  Southwest Airlines Co.        1333   N334SW                  121  ...   \n",
            "3  Southwest Airlines Co.         675   N286WN                  228  ...   \n",
            "4  Southwest Airlines Co.           4   N674AA                  123  ...   \n",
            "\n",
            "   cancelled  cancellation_code  diverted  carrier_delay weather_delay  \\\n",
            "0          0                  N         0              2             0   \n",
            "1          0                  N         0             10             0   \n",
            "2          0                  N         0              8             0   \n",
            "3          0                  N         0              3             0   \n",
            "4          0                  N         0              0             0   \n",
            "\n",
            "  nas_delay security_delay late_aircraft_delay  oaci_org_airport    wmo  \n",
            "0         0              0                  32              KIND  72438  \n",
            "1         0              0                  47              KIND  72438  \n",
            "2         0              0                  72              KIND  72438  \n",
            "3         0              0                  12              KIND  72438  \n",
            "4         0              0                  16              KIND  72438  \n",
            "\n",
            "[5 rows x 31 columns]\n"
          ]
        }
      ]
    },
    {
      "cell_type": "code",
      "source": [
        "# check for null values in wmo in the main dataset\n",
        "null_wmo = flight_delay['wmo'].isnull().sum()\n",
        "\n",
        "print(f\"Number of missing wmo: {null_wmo}\")"
      ],
      "metadata": {
        "colab": {
          "base_uri": "https://localhost:8080/"
        },
        "id": "IQsM5SbZIbIe",
        "outputId": "47573408-c2fd-49c9-e512-42745cd2e9ac"
      },
      "execution_count": 11,
      "outputs": [
        {
          "output_type": "stream",
          "name": "stdout",
          "text": [
            "Number of missing wmo: 171\n"
          ]
        }
      ]
    },
    {
      "cell_type": "code",
      "source": [
        "# list the unique airports with missing wmo values\n",
        "# filter rows where wmo is null\n",
        "null_wmo_airports = flight_delay[flight_delay['wmo'].isnull()]\n",
        "\n",
        "# unique airports with missing wmo\n",
        "unique_airports_with_null_wmo = null_wmo_airports['oaci_org_airport'].unique()\n",
        "\n",
        "print(\"Unique OACI airports with missing wmo:\")\n",
        "for airport in unique_airports_with_null_wmo:\n",
        "    print(airport)"
      ],
      "metadata": {
        "colab": {
          "base_uri": "https://localhost:8080/"
        },
        "id": "ID7fd2xMIbMu",
        "outputId": "cf291909-1d36-4db4-c256-e52d66b915b6"
      },
      "execution_count": 12,
      "outputs": [
        {
          "output_type": "stream",
          "name": "stdout",
          "text": [
            "Unique OACI airports with missing wmo:\n",
            "KLAW\n"
          ]
        }
      ]
    },
    {
      "cell_type": "code",
      "source": [
        "# assign manually the nearest wmo station to KLAW airport\n",
        "# coordinates of the KLAW airport\n",
        "latitude = 34.56771\n",
        "longitude = -98.41664\n",
        "\n",
        "# fetch nearby stations based on the coordinates\n",
        "nearby_stations = Stations().nearby(latitude, longitude).fetch()\n",
        "\n",
        "# limit the results to the 10 closest stations\n",
        "nearest_stations = nearby_stations.head(3)\n",
        "\n",
        "print(\"Closest wmo stations to the specified coordinates:\")\n",
        "print(nearest_stations[['icao', 'latitude', 'longitude', 'wmo']])"
      ],
      "metadata": {
        "colab": {
          "base_uri": "https://localhost:8080/"
        },
        "id": "qVv0h5Z1HPoP",
        "outputId": "447dbea5-aa74-42a5-afca-436fe39f538a"
      },
      "execution_count": 13,
      "outputs": [
        {
          "output_type": "stream",
          "name": "stdout",
          "text": [
            "Closest wmo stations to the specified coordinates:\n",
            "       icao  latitude  longitude    wmo\n",
            "id                                     \n",
            "72355  KFSI   34.6000   -98.4000  72355\n",
            "KDUC0  KDUC   34.4713   -97.9599   <NA>\n",
            "KFDR0  KFDR   34.3667   -98.9833   <NA>\n"
          ]
        }
      ]
    },
    {
      "cell_type": "code",
      "source": [
        "# assign manually the chosen wmo code to rows with KLAW\n",
        "flight_delay.loc[flight_delay['oaci_org_airport'] == 'KLAW', 'wmo'] = 72355\n",
        "\n",
        "print(\"Updated KLAW station with the manually assigned WMO:\")\n",
        "print(flight_delay[flight_delay['oaci_org_airport'] == 'KLAW'])"
      ],
      "metadata": {
        "colab": {
          "base_uri": "https://localhost:8080/"
        },
        "id": "o1rPeAjMRIs2",
        "outputId": "f38f9bb5-6c58-498b-c3a2-2243ea181aa1"
      },
      "execution_count": 14,
      "outputs": [
        {
          "output_type": "stream",
          "name": "stdout",
          "text": [
            "Updated KLAW station with the manually assigned WMO:\n",
            "        day_of_week        date  dep_time  arr_time  crs_arr_time  \\\n",
            "57797             3  02/01/2019      1354      1440          1330   \n",
            "57798             5  04/01/2019      1334      1439          1330   \n",
            "57799             3  16/01/2019      1319      1412          1330   \n",
            "57800             1  21/01/2019      1324      1425          1330   \n",
            "57801             3  23/01/2019      1251      1400          1330   \n",
            "...             ...         ...       ...       ...           ...   \n",
            "464317            3  18/06/2019       633       734           705   \n",
            "464318            7  29/06/2019       857       953           705   \n",
            "467780            7  01/06/2019      1105      1143          1120   \n",
            "467781            3  11/06/2019      1111      1149          1120   \n",
            "467782            4  19/06/2019      1123      1214          1120   \n",
            "\n",
            "       unique_carrier                       airline  flight_num tail_num  \\\n",
            "57797              MQ  American Eagle Airlines Inc.        3202   N825AE   \n",
            "57798              MQ  American Eagle Airlines Inc.        3202   N304AE   \n",
            "57799              MQ  American Eagle Airlines Inc.        3202   N266AE   \n",
            "57800              MQ  American Eagle Airlines Inc.        3202   N263AE   \n",
            "57801              MQ  American Eagle Airlines Inc.        3202   N263AE   \n",
            "...               ...                           ...         ...      ...   \n",
            "464317             MQ  American Eagle Airlines Inc.        3348   N298AE   \n",
            "464318             MQ  American Eagle Airlines Inc.        3348   N307AE   \n",
            "467780             MQ  American Eagle Airlines Inc.        3848   N922AE   \n",
            "467781             MQ  American Eagle Airlines Inc.        3848   N680AE   \n",
            "467782             MQ  American Eagle Airlines Inc.        3848   N681AE   \n",
            "\n",
            "        actual_elapsed_time  ...  cancelled  cancellation_code  diverted  \\\n",
            "57797                    46  ...          0                  N         0   \n",
            "57798                    65  ...          0                  N         0   \n",
            "57799                    53  ...          0                  N         0   \n",
            "57800                    61  ...          0                  N         0   \n",
            "57801                    69  ...          0                  N         0   \n",
            "...                     ...  ...        ...                ...       ...   \n",
            "464317                   61  ...          0                  N         0   \n",
            "464318                   56  ...          0                  N         0   \n",
            "467780                   38  ...          0                  N         0   \n",
            "467781                   38  ...          0                  N         0   \n",
            "467782                   51  ...          0                  N         0   \n",
            "\n",
            "        carrier_delay weather_delay nas_delay security_delay  \\\n",
            "57797               0             0         0              0   \n",
            "57798               0             0         9              0   \n",
            "57799               0             0         0              0   \n",
            "57800               0             0         5              0   \n",
            "57801               0             0        13              0   \n",
            "...               ...           ...       ...            ...   \n",
            "464317             25             0         4              0   \n",
            "464318            168             0         0              0   \n",
            "467780              0             0         0              0   \n",
            "467781             12             0         0              0   \n",
            "467782              0             0         6              0   \n",
            "\n",
            "       late_aircraft_delay  oaci_org_airport    wmo  \n",
            "57797                   70              KLAW  72355  \n",
            "57798                   60              KLAW  72355  \n",
            "57799                   42              KLAW  72355  \n",
            "57800                   50              KLAW  72355  \n",
            "57801                   17              KLAW  72355  \n",
            "...                    ...               ...    ...  \n",
            "464317                   0              KLAW  72355  \n",
            "464318                   0              KLAW  72355  \n",
            "467780                  23              KLAW  72355  \n",
            "467781                  17              KLAW  72355  \n",
            "467782                  48              KLAW  72355  \n",
            "\n",
            "[171 rows x 31 columns]\n"
          ]
        }
      ]
    },
    {
      "cell_type": "code",
      "source": [
        "# get unique wmo stations from the dataset\n",
        "unique_wmo = flight_delay['wmo'].unique()\n",
        "\n",
        "# convert to int format\n",
        "unique_wmo_list = sorted(unique_wmo.astype(int))\n",
        "\n",
        "# format as a Python list for easy copy-paste\n",
        "wmo_list = ', '.join(map(str, unique_wmo_list))\n",
        "\n",
        "# text file result\n",
        "with open('wmo_list.txt', 'w') as f:\n",
        "    f.write(f\"[{wmo_list}]\")\n",
        "\n",
        "print(f\"[{wmo_list}]\")"
      ],
      "metadata": {
        "colab": {
          "base_uri": "https://localhost:8080/"
        },
        "id": "NYdiD1qpThy0",
        "outputId": "b24d5884-7afe-4ff9-8390-a9bc78b09d1b"
      },
      "execution_count": 15,
      "outputs": [
        {
          "output_type": "stream",
          "name": "stdout",
          "text": [
            "[69015, 70026, 70133, 70200, 70219, 70261, 70273, 70296, 70321, 70326, 70350, 70361, 70364, 70371, 70381, 70386, 70387, 70395, 70454, 70580, 71108, 72034, 72201, 72202, 72203, 72204, 72205, 72206, 72207, 72208, 72209, 72210, 72211, 72214, 72216, 72217, 72218, 72219, 72221, 72222, 72223, 72225, 72226, 72228, 72231, 72234, 72235, 72243, 72244, 72247, 72248, 72250, 72251, 72252, 72253, 72256, 72257, 72258, 72259, 72263, 72265, 72266, 72267, 72268, 72270, 72274, 72278, 72281, 72286, 72288, 72290, 72293, 72295, 72297, 72302, 72306, 72308, 72309, 72310, 72312, 72314, 72315, 72317, 72323, 72324, 72326, 72327, 72332, 72334, 72335, 72340, 72344, 72351, 72353, 72355, 72356, 72363, 72365, 72382, 72384, 72386, 72389, 72391, 72392, 72394, 72399, 72401, 72403, 72405, 72406, 72407, 72408, 72410, 72411, 72414, 72416, 72421, 72422, 72423, 72428, 72429, 72432, 72434, 72438, 72439, 72440, 72446, 72450, 72462, 72466, 72475, 72476, 72483, 72487, 72488, 72492, 72493, 72494, 72497, 72502, 72503, 72505, 72507, 72508, 72509, 72512, 72513, 72517, 72518, 72519, 72520, 72521, 72524, 72528, 72529, 72530, 72531, 72532, 72533, 72534, 72535, 72536, 72537, 72539, 72543, 72544, 72545, 72546, 72547, 72550, 72551, 72565, 72569, 72570, 72572, 72577, 72578, 72592, 72594, 72597, 72606, 72607, 72617, 72628, 72635, 72636, 72637, 72640, 72641, 72643, 72644, 72645, 72646, 72651, 72658, 72662, 72670, 72677, 72681, 72688, 72693, 72694, 72698, 72753, 72764, 72772, 72773, 72774, 72775, 72779, 72781, 72783, 72785, 72793, 74000, 74331, 74394, 74467, 74486, 74505, 74509, 74521, 74598, 74612, 74692, 74693, 74745, 74746, 74750, 74754, 74756, 74757, 74775, 74776, 74781, 74783, 74787, 74790, 74791, 76040, 78514, 78526, 78543, 78547, 91165, 91182, 91190, 91285]\n"
          ]
        }
      ]
    },
    {
      "cell_type": "code",
      "source": [
        "# read the formatted wmo list\n",
        "with open('wmo_list.txt', 'r') as f:\n",
        "    formatted_wmo_list = f.read().strip()\n",
        "\n",
        "# convert the formatted string into a list of wmo values\n",
        "wmo_values = formatted_wmo_list.strip('[]').split(', ')\n",
        "\n",
        "# count the number of unique wmo values in the list\n",
        "count_wmo = len(wmo_values)\n",
        "\n",
        "# Display the count\n",
        "print(f\"Number of unique wmo values in the list: {count_wmo}\")"
      ],
      "metadata": {
        "colab": {
          "base_uri": "https://localhost:8080/"
        },
        "id": "M0PZajIkTivQ",
        "outputId": "4091b531-450b-401d-e797-29755b6cfbd4"
      },
      "execution_count": 16,
      "outputs": [
        {
          "output_type": "stream",
          "name": "stdout",
          "text": [
            "Number of unique wmo values in the list: 248\n"
          ]
        }
      ]
    },
    {
      "cell_type": "code",
      "source": [
        "# fetch meteorological data for wmo stations\n",
        "# define dates\n",
        "start = datetime(2019, 1, 1)\n",
        "end = datetime(2019, 6, 30)\n",
        "\n",
        "# list of wmo stations\n",
        "wmo_list = unique_wmo_list\n",
        "\n",
        "# storage for all meteorological data\n",
        "meteo_data = pd.DataFrame()\n",
        "\n",
        "# fetch station information\n",
        "stations = Stations()\n",
        "stations_df = stations.fetch()\n",
        "\n",
        "# handle missing wmo values and convert wno to int type\n",
        "stations_df = stations_df.dropna(subset=['wmo'])\n",
        "stations_df['wmo'] = stations_df['wmo'].astype(int)\n",
        "\n",
        "# iterate through each wmo station\n",
        "for wmo in wmo_list:\n",
        "    try:\n",
        "        # filter station by wmo code\n",
        "        station = stations_df.loc[stations_df['wmo'] == wmo]\n",
        "\n",
        "        if not station.empty:\n",
        "            # get daily data\n",
        "            station_id = station.index[0]\n",
        "            data = Daily(station_id, start, end).fetch()\n",
        "\n",
        "            if not data.empty:\n",
        "                # add wmo as an additional column\n",
        "                data['wmo'] = wmo\n",
        "                data['date'] = data.index\n",
        "                data.reset_index(drop=True, inplace=True)\n",
        "\n",
        "                # append the data to the main df\n",
        "                meteo_data = pd.concat([meteo_data, data], ignore_index=True)\n",
        "                print(f\"Data fetched for station {wmo}.\")\n",
        "            else:\n",
        "                print(f\"No data available for station {wmo} in the specified date range.\")\n",
        "        else:\n",
        "            print(f\"Station wmo {wmo} not found in the station dataset.\")\n",
        "    except Exception as e:\n",
        "        print(f\"Error fetching data for station wmo {wmo}: {e}\")\n",
        "\n",
        "# save the data to a file\n",
        "if meteo_data.empty:\n",
        "    print(\"No meteorological data was fetched.\")\n",
        "else:\n",
        "    meteo_data.to_csv('meteorological_data.csv', index=False)\n",
        "    print(\"Meteorological data saved in 'meteorological_data.csv'.\")"
      ],
      "metadata": {
        "colab": {
          "base_uri": "https://localhost:8080/"
        },
        "id": "yqjihCH8Tixz",
        "outputId": "01707980-cc41-4260-b016-f683599a1c91"
      },
      "execution_count": 17,
      "outputs": [
        {
          "output_type": "stream",
          "name": "stdout",
          "text": [
            "Data fetched for station 69015.\n",
            "Data fetched for station 70026.\n",
            "Data fetched for station 70133.\n",
            "Data fetched for station 70200.\n",
            "Data fetched for station 70219.\n",
            "Data fetched for station 70261.\n",
            "Data fetched for station 70273.\n",
            "Data fetched for station 70296.\n",
            "Data fetched for station 70321.\n",
            "Data fetched for station 70326.\n",
            "Data fetched for station 70350.\n",
            "Data fetched for station 70361.\n",
            "Data fetched for station 70364.\n",
            "Data fetched for station 70371.\n",
            "Data fetched for station 70381.\n",
            "Data fetched for station 70386.\n",
            "Data fetched for station 70387.\n",
            "Data fetched for station 70395.\n",
            "Data fetched for station 70454.\n",
            "Data fetched for station 70580.\n",
            "Data fetched for station 71108.\n",
            "Data fetched for station 72034.\n",
            "Data fetched for station 72201.\n",
            "Data fetched for station 72202.\n",
            "Data fetched for station 72203.\n",
            "Data fetched for station 72204.\n",
            "Data fetched for station 72205.\n",
            "Data fetched for station 72206.\n",
            "Data fetched for station 72207.\n",
            "Data fetched for station 72208.\n",
            "Data fetched for station 72209.\n",
            "Data fetched for station 72210.\n",
            "Data fetched for station 72211.\n",
            "Data fetched for station 72214.\n",
            "Data fetched for station 72216.\n",
            "Data fetched for station 72217.\n",
            "Data fetched for station 72218.\n",
            "Data fetched for station 72219.\n",
            "Data fetched for station 72221.\n",
            "Data fetched for station 72222.\n",
            "Data fetched for station 72223.\n",
            "Data fetched for station 72225.\n",
            "Data fetched for station 72226.\n",
            "Data fetched for station 72228.\n",
            "Data fetched for station 72231.\n",
            "Data fetched for station 72234.\n",
            "Data fetched for station 72235.\n",
            "Data fetched for station 72243.\n",
            "Data fetched for station 72244.\n",
            "Data fetched for station 72247.\n",
            "Data fetched for station 72248.\n",
            "Data fetched for station 72250.\n",
            "Data fetched for station 72251.\n",
            "Data fetched for station 72252.\n",
            "Data fetched for station 72253.\n",
            "Data fetched for station 72256.\n",
            "Data fetched for station 72257.\n",
            "Data fetched for station 72258.\n",
            "Data fetched for station 72259.\n",
            "Data fetched for station 72263.\n",
            "Data fetched for station 72265.\n",
            "Data fetched for station 72266.\n",
            "Data fetched for station 72267.\n",
            "Data fetched for station 72268.\n",
            "Data fetched for station 72270.\n",
            "Data fetched for station 72274.\n",
            "Data fetched for station 72278.\n",
            "Data fetched for station 72281.\n",
            "Data fetched for station 72286.\n",
            "Data fetched for station 72288.\n",
            "Data fetched for station 72290.\n",
            "Data fetched for station 72293.\n",
            "Data fetched for station 72295.\n",
            "Data fetched for station 72297.\n",
            "Data fetched for station 72302.\n",
            "Data fetched for station 72306.\n",
            "Data fetched for station 72308.\n",
            "Data fetched for station 72309.\n",
            "Data fetched for station 72310.\n",
            "Data fetched for station 72312.\n",
            "Data fetched for station 72314.\n",
            "Data fetched for station 72315.\n",
            "Data fetched for station 72317.\n",
            "Data fetched for station 72323.\n",
            "Data fetched for station 72324.\n",
            "Data fetched for station 72326.\n",
            "Data fetched for station 72327.\n",
            "Data fetched for station 72332.\n",
            "Data fetched for station 72334.\n",
            "Data fetched for station 72335.\n",
            "Data fetched for station 72340.\n",
            "Data fetched for station 72344.\n",
            "Data fetched for station 72351.\n",
            "Data fetched for station 72353.\n",
            "Data fetched for station 72355.\n",
            "Data fetched for station 72356.\n",
            "Data fetched for station 72363.\n",
            "Data fetched for station 72365.\n",
            "Data fetched for station 72382.\n",
            "Data fetched for station 72384.\n",
            "Data fetched for station 72386.\n",
            "Data fetched for station 72389.\n",
            "Data fetched for station 72391.\n",
            "Data fetched for station 72392.\n",
            "Data fetched for station 72394.\n",
            "Data fetched for station 72399.\n",
            "Data fetched for station 72401.\n",
            "Data fetched for station 72403.\n",
            "Data fetched for station 72405.\n",
            "Data fetched for station 72406.\n",
            "Data fetched for station 72407.\n",
            "Data fetched for station 72408.\n",
            "Data fetched for station 72410.\n",
            "Data fetched for station 72411.\n",
            "Data fetched for station 72414.\n",
            "Data fetched for station 72416.\n",
            "Data fetched for station 72421.\n",
            "Data fetched for station 72422.\n",
            "Data fetched for station 72423.\n",
            "Data fetched for station 72428.\n",
            "Data fetched for station 72429.\n",
            "Data fetched for station 72432.\n",
            "Data fetched for station 72434.\n",
            "Data fetched for station 72438.\n",
            "Data fetched for station 72439.\n",
            "Data fetched for station 72440.\n",
            "Data fetched for station 72446.\n",
            "Data fetched for station 72450.\n",
            "Data fetched for station 72462.\n",
            "Data fetched for station 72466.\n",
            "Data fetched for station 72475.\n",
            "Data fetched for station 72476.\n",
            "Data fetched for station 72483.\n",
            "Data fetched for station 72487.\n",
            "Data fetched for station 72488.\n",
            "Data fetched for station 72492.\n",
            "Data fetched for station 72493.\n",
            "Data fetched for station 72494.\n",
            "Data fetched for station 72497.\n",
            "Data fetched for station 72502.\n",
            "Data fetched for station 72503.\n",
            "Data fetched for station 72505.\n",
            "Data fetched for station 72507.\n",
            "Data fetched for station 72508.\n",
            "Data fetched for station 72509.\n",
            "Data fetched for station 72512.\n",
            "Data fetched for station 72513.\n",
            "Data fetched for station 72517.\n",
            "Data fetched for station 72518.\n",
            "Data fetched for station 72519.\n",
            "Data fetched for station 72520.\n",
            "Data fetched for station 72521.\n",
            "Data fetched for station 72524.\n",
            "Data fetched for station 72528.\n",
            "Data fetched for station 72529.\n",
            "Data fetched for station 72530.\n",
            "Data fetched for station 72531.\n",
            "Data fetched for station 72532.\n",
            "Data fetched for station 72533.\n",
            "Data fetched for station 72534.\n",
            "Data fetched for station 72535.\n",
            "Data fetched for station 72536.\n",
            "Data fetched for station 72537.\n",
            "Data fetched for station 72539.\n",
            "Data fetched for station 72543.\n",
            "Data fetched for station 72544.\n",
            "Data fetched for station 72545.\n",
            "Data fetched for station 72546.\n",
            "Data fetched for station 72547.\n",
            "Data fetched for station 72550.\n",
            "Data fetched for station 72551.\n",
            "Data fetched for station 72565.\n",
            "Data fetched for station 72569.\n",
            "Data fetched for station 72570.\n",
            "Data fetched for station 72572.\n",
            "Data fetched for station 72577.\n",
            "Data fetched for station 72578.\n",
            "Data fetched for station 72592.\n",
            "Data fetched for station 72594.\n",
            "Data fetched for station 72597.\n",
            "Data fetched for station 72606.\n",
            "Data fetched for station 72607.\n",
            "Data fetched for station 72617.\n",
            "Data fetched for station 72628.\n",
            "Data fetched for station 72635.\n",
            "Data fetched for station 72636.\n",
            "Data fetched for station 72637.\n",
            "Data fetched for station 72640.\n",
            "Data fetched for station 72641.\n",
            "Data fetched for station 72643.\n",
            "Data fetched for station 72644.\n",
            "Data fetched for station 72645.\n",
            "Data fetched for station 72646.\n",
            "Data fetched for station 72651.\n",
            "Data fetched for station 72658.\n",
            "Data fetched for station 72662.\n",
            "Data fetched for station 72670.\n",
            "Data fetched for station 72677.\n",
            "Data fetched for station 72681.\n",
            "Data fetched for station 72688.\n",
            "Data fetched for station 72693.\n",
            "Data fetched for station 72694.\n",
            "Data fetched for station 72698.\n",
            "Data fetched for station 72753.\n",
            "Data fetched for station 72764.\n",
            "Data fetched for station 72772.\n",
            "Data fetched for station 72773.\n",
            "Data fetched for station 72774.\n",
            "Data fetched for station 72775.\n",
            "Data fetched for station 72779.\n",
            "Data fetched for station 72781.\n",
            "Data fetched for station 72783.\n",
            "Data fetched for station 72785.\n",
            "Data fetched for station 72793.\n",
            "Data fetched for station 74000.\n",
            "Data fetched for station 74331.\n",
            "Data fetched for station 74394.\n",
            "Data fetched for station 74467.\n",
            "Data fetched for station 74486.\n",
            "Data fetched for station 74505.\n",
            "Data fetched for station 74509.\n",
            "Data fetched for station 74521.\n",
            "Data fetched for station 74598.\n",
            "Data fetched for station 74612.\n",
            "Data fetched for station 74692.\n",
            "Data fetched for station 74693.\n",
            "Data fetched for station 74745.\n",
            "Data fetched for station 74746.\n",
            "Data fetched for station 74750.\n",
            "Data fetched for station 74754.\n",
            "Data fetched for station 74756.\n",
            "Data fetched for station 74757.\n",
            "Data fetched for station 74775.\n",
            "Data fetched for station 74776.\n",
            "Data fetched for station 74781.\n",
            "Data fetched for station 74783.\n",
            "Data fetched for station 74787.\n",
            "Data fetched for station 74790.\n",
            "Data fetched for station 74791.\n",
            "Data fetched for station 76040.\n",
            "Data fetched for station 78514.\n",
            "Data fetched for station 78526.\n",
            "Data fetched for station 78543.\n",
            "Data fetched for station 78547.\n",
            "Data fetched for station 91165.\n",
            "Data fetched for station 91182.\n",
            "Data fetched for station 91190.\n",
            "Data fetched for station 91285.\n",
            "Meteorological data saved in 'meteorological_data.csv'.\n"
          ]
        }
      ]
    },
    {
      "cell_type": "code",
      "source": [
        "# load the meteorological data\n",
        "meteo_data = pd.read_csv('meteorological_data.csv')\n",
        "\n",
        "print(meteo_data.head())"
      ],
      "metadata": {
        "colab": {
          "base_uri": "https://localhost:8080/"
        },
        "id": "Z5-4-fQ6dI0r",
        "outputId": "92c6dbb9-d086-458b-93a3-56e79ac80289"
      },
      "execution_count": 18,
      "outputs": [
        {
          "output_type": "stream",
          "name": "stdout",
          "text": [
            "   tavg  tmin  tmax  prcp  snow   wdir  wspd  wpgt    pres  tsun    wmo  \\\n",
            "0   3.5   0.0   7.2   NaN   NaN  327.0  17.8   NaN  1022.2   NaN  69015   \n",
            "1   4.5   0.0  10.6   NaN   NaN  309.0  17.0   NaN  1025.0   NaN  69015   \n",
            "2   4.0  -3.3  12.8   NaN   NaN    NaN   6.0   NaN  1025.2   NaN  69015   \n",
            "3   4.2  -2.2  12.8   NaN   NaN    NaN   4.8   NaN  1020.4   NaN  69015   \n",
            "4   6.7   1.7  11.7   NaN   NaN    NaN  11.0   NaN  1015.8   NaN  69015   \n",
            "\n",
            "         date  \n",
            "0  2019-01-01  \n",
            "1  2019-01-02  \n",
            "2  2019-01-03  \n",
            "3  2019-01-04  \n",
            "4  2019-01-05  \n"
          ]
        }
      ]
    },
    {
      "cell_type": "code",
      "source": [
        "# ensure the date format in flight_delay\n",
        "flight_delay['date'] = pd.to_datetime(flight_delay['date'], dayfirst=True)\n",
        "\n",
        "# ensure the date format in meteo_data\n",
        "meteo_data['date'] = pd.to_datetime(meteo_data['date'])\n",
        "\n",
        "# Merge datasets on wmo and date\n",
        "flight_delay = pd.merge(\n",
        "    flight_delay,\n",
        "    meteo_data,\n",
        "    on=['wmo', 'date'],\n",
        "    how='left'\n",
        ")\n",
        "\n",
        "print(\"\\nMerged Meteo and Flight Delay Dataset:\")\n",
        "print(flight_delay.head())"
      ],
      "metadata": {
        "colab": {
          "base_uri": "https://localhost:8080/"
        },
        "id": "lJsL1mXbnOXS",
        "outputId": "13fd2312-1e06-496b-c043-efcd1c09cd51"
      },
      "execution_count": 19,
      "outputs": [
        {
          "output_type": "stream",
          "name": "stdout",
          "text": [
            "\n",
            "Merged Meteo and Flight Delay Dataset:\n",
            "   day_of_week       date  dep_time  arr_time  crs_arr_time unique_carrier  \\\n",
            "0            4 2019-01-03      1829      1959          1925             WN   \n",
            "1            4 2019-01-03      1937      2037          1940             WN   \n",
            "2            4 2019-01-03      1644      1845          1725             WN   \n",
            "3            4 2019-01-03      1452      1640          1625             WN   \n",
            "4            4 2019-01-03      1323      1526          1510             WN   \n",
            "\n",
            "                  airline  flight_num tail_num  actual_elapsed_time  ...  \\\n",
            "0  Southwest Airlines Co.        3920   N464WN                   90  ...   \n",
            "1  Southwest Airlines Co.         509   N763SW                  240  ...   \n",
            "2  Southwest Airlines Co.        1333   N334SW                  121  ...   \n",
            "3  Southwest Airlines Co.         675   N286WN                  228  ...   \n",
            "4  Southwest Airlines Co.           4   N674AA                  123  ...   \n",
            "\n",
            "   tavg  tmin  tmax  prcp snow   wdir  wspd wpgt    pres  tsun  \n",
            "0   0.5  -3.2   5.6   0.0  0.0  233.0  11.9  NaN  1019.4   NaN  \n",
            "1   0.5  -3.2   5.6   0.0  0.0  233.0  11.9  NaN  1019.4   NaN  \n",
            "2   0.5  -3.2   5.6   0.0  0.0  233.0  11.9  NaN  1019.4   NaN  \n",
            "3   0.5  -3.2   5.6   0.0  0.0  233.0  11.9  NaN  1019.4   NaN  \n",
            "4   0.5  -3.2   5.6   0.0  0.0  233.0  11.9  NaN  1019.4   NaN  \n",
            "\n",
            "[5 rows x 41 columns]\n"
          ]
        }
      ]
    },
    {
      "cell_type": "code",
      "source": [
        "# load holidays dataset\n",
        "holidays_data = pd.read_csv(\"holiday_dates.csv\")\n",
        "\n",
        "print(holidays_data.head())"
      ],
      "metadata": {
        "colab": {
          "base_uri": "https://localhost:8080/"
        },
        "id": "sgCZr6DgeRep",
        "outputId": "4f11cedf-599b-4d6f-b0d4-b992891e6f47"
      },
      "execution_count": 20,
      "outputs": [
        {
          "output_type": "stream",
          "name": "stdout",
          "text": [
            "         Date      Holiday    WeekDay  Month  Day  Year\n",
            "0  2004-07-04  4th of July     Sunday      7    4  2004\n",
            "1  2005-07-04  4th of July     Monday      7    4  2005\n",
            "2  2006-07-04  4th of July    Tuesday      7    4  2006\n",
            "3  2007-07-04  4th of July  Wednesday      7    4  2007\n",
            "4  2008-07-04  4th of July     Friday      7    4  2008\n"
          ]
        }
      ]
    },
    {
      "cell_type": "code",
      "source": [
        "# merge holiday information wihth flight data\n",
        "# create a set of holiday dates\n",
        "holiday_dates = set(holidays_data[\"Date\"])\n",
        "\n",
        "# add a column indicating if the flight occurs on a holiday\n",
        "flight_delay[\"is_holiday\"] = flight_delay[\"date\"].isin(holiday_dates).astype(int)\n",
        "\n",
        "flight_delay.to_csv(\"flight_delay_with_meteo_holidays.csv\", index=False)\n",
        "print(\"Updated file saved as 'flight_delay_with_meteo_holidays.csv'.\")"
      ],
      "metadata": {
        "colab": {
          "base_uri": "https://localhost:8080/"
        },
        "id": "L1HJzmSbeRg-",
        "outputId": "3e92a684-5e01-4e54-eb5b-f51cbe5858ad"
      },
      "execution_count": 21,
      "outputs": [
        {
          "output_type": "stream",
          "name": "stderr",
          "text": [
            "FutureWarning: The behavior of 'isin' with dtype=datetime64[ns] and castable values (e.g. strings) is deprecated. In a future version, these will not be considered matching by isin. Explicitly cast to the appropriate dtype before calling isin instead.\n"
          ]
        },
        {
          "output_type": "stream",
          "name": "stdout",
          "text": [
            "Updated file saved as 'flight_delay_with_meteo_holidays.csv'.\n"
          ]
        }
      ]
    }
  ]
}